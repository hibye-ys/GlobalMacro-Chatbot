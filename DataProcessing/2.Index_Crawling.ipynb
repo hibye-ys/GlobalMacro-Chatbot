{
 "cells": [
  {
   "cell_type": "code",
   "execution_count": 11,
   "metadata": {},
   "outputs": [],
   "source": [
    "from langchain.schema import Document\n",
    "import json\n",
    "from datetime import datetime\n",
    "import pandas as pd\n",
    "\n",
    "\n",
    "def create_documents_from_dataframe(df):\n",
    "    documents = []\n",
    "\n",
    "    for index, row in df.iterrows():\n",
    "        # page_content를 XML 형식으로 생성\n",
    "        content = \"<row>\\n\"\n",
    "        content += f\"  <날짜>{index}</날짜>\\n\"\n",
    "        for column, value in row.items():\n",
    "            column_name = column.replace(\" \", \"_\")\n",
    "            content += f\"  <{column_name}>{value}</{column_name}>\\n\"\n",
    "        content += \"</row>\"\n",
    "\n",
    "        # metadata 생성\n",
    "        metadata = {\"date\": str(index), \"columns\": list(row.index)}\n",
    "\n",
    "        # Document 객체 생성\n",
    "        doc = Document(page_content=content, metadata=metadata)\n",
    "        documents.append(doc)\n",
    "\n",
    "    return documents\n",
    "\n",
    "\n",
    "def save_documents_to_json(documents, filename):\n",
    "    data = []\n",
    "    for doc in documents:\n",
    "        doc_dict = {\"page_content\": doc.page_content, \"metadata\": doc.metadata}\n",
    "        data.append(doc_dict)\n",
    "\n",
    "    with open(filename, \"w\", encoding=\"utf-8\") as f:\n",
    "        json.dump(data, f, ensure_ascii=False, indent=2)\n",
    "\n",
    "\n",
    "path = \"\n",
    "df = pd.read_excel(path, index_col=\"날짜\")\n",
    "documents = create_documents_from_dataframe(df)\n",
    "\n",
    "output_path = (\n",
    "    f\"../data/Edited/documents/{datetime.now().strftime('%Y.%m.%d')}_indicator_csv.json\"\n",
    ")\n",
    "\n",
    "save_documents_to_json(documents, output_path)"
   ]
  }
 ],
 "metadata": {
  "kernelspec": {
   "display_name": "langchain-kr-CK8n2Lx5-py3.11",
   "language": "python",
   "name": "python3"
  },
  "language_info": {
   "codemirror_mode": {
    "name": "ipython",
    "version": 3
   },
   "file_extension": ".py",
   "mimetype": "text/x-python",
   "name": "python",
   "nbconvert_exporter": "python",
   "pygments_lexer": "ipython3",
   "version": "3.11.9"
  }
 },
 "nbformat": 4,
 "nbformat_minor": 2
}
