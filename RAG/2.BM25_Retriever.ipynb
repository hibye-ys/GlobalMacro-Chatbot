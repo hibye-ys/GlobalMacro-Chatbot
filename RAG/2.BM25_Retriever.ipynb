{
 "cells": [
  {
   "cell_type": "code",
   "execution_count": 2,
   "metadata": {},
   "outputs": [
    {
     "name": "stdout",
     "output_type": "stream",
     "text": [
      "[init_pinecone_index]\n",
      "{'dimension': 4096,\n",
      " 'index_fullness': 0.0,\n",
      " 'namespaces': {'financical-data-00': {'vector_count': 2012}},\n",
      " 'total_vector_count': 2012}\n"
     ]
    }
   ],
   "source": [
    "from dotenv import load_dotenv\n",
    "from langchain_teddynote.community.pinecone import init_pinecone_index\n",
    "from langchain_upstage.embeddings import UpstageEmbeddings\n",
    "from langchain_teddynote.community.pinecone import PineconeKiwiHybridRetriever\n",
    "from langchain_teddynote.korean import stopwords\n",
    "import os\n",
    "\n",
    "load_dotenv()\n",
    "\n",
    "\n",
    "pinecone_params = init_pinecone_index(\n",
    "    index_name=\"globalmacro-chatbot\",\n",
    "    namespace=\"financical-data-00\",\n",
    "    api_key=os.environ[\"PINECONE_API_KEY\"],\n",
    "    sparse_encoder_path=\"../data/sparse_encoder_01.pkl\",\n",
    "    stopwords=stopwords(),\n",
    "    tokenizer=\"kiwi\",\n",
    "    embeddings=UpstageEmbeddings(model=\"solar-embedding-1-large-query\"),\n",
    "    top_k=10,\n",
    "    alpha=0.4,  # alpha=0.75로 설정한 경우, (0.75: Dense Embedding, 0.25: Sparse Embedding)\n",
    ")\n",
    "\n",
    "\n",
    "pinecone_retriever = PineconeKiwiHybridRetriever(**pinecone_params)"
   ]
  },
  {
   "cell_type": "markdown",
   "metadata": {},
   "source": [
    "# make testdata\n"
   ]
  },
  {
   "cell_type": "code",
   "execution_count": 5,
   "metadata": {},
   "outputs": [],
   "source": [
    "from datasets import Dataset\n",
    "from langchain_core.runnables import RunnablePassthrough\n",
    "from langchain_core.output_parsers import StrOutputParser\n",
    "from langchain_openai import ChatOpenAI\n",
    "from langchain_anthropic import ChatAnthropic\n",
    "from langchain_core.prompts import PromptTemplate\n",
    "import pandas as pd\n",
    "import sys\n",
    "import os\n",
    "import json\n",
    "\n",
    "current_dir = os.getcwd()\n",
    "parent_dir = os.path.dirname(current_dir)\n",
    "sys.path.append(parent_dir)\n",
    "from DataProcessing.utils import load_yaml\n",
    "\n",
    "\n",
    "path = \"./data/custom_testdataset.xlsx\"\n",
    "# testset = pd.read_csv(path)\n",
    "testset = pd.read_excel(path)\n",
    "\n",
    "questions = testset[\"question\"].to_list()\n",
    "ground_truth = testset[\"ground_truth\"].to_list()\n",
    "\n",
    "data = {\"question\": [], \"answer\": [], \"contexts\": [], \"ground_truth\": ground_truth}\n",
    "\n",
    "prompt_template = load_yaml(\"../prompts/Retriever._prompt.yaml\")[\"prompt\"]\n",
    "prompt = PromptTemplate.from_template(prompt_template)\n",
    "# llm = ChatOpenAI(model=\"gpt-4o-mini\", temperature=0.5)\n",
    "llm = ChatAnthropic(model=\"claude-3-5-sonnet-20240620\", temperature=0.5)\n",
    "\n",
    "rag_chain = (\n",
    "    {\"context\": pinecone_retriever, \"question\": RunnablePassthrough()}\n",
    "    | prompt\n",
    "    | llm\n",
    "    | StrOutputParser()\n",
    ")\n",
    "\n",
    "\n",
    "for query in questions:\n",
    "    data[\"question\"].append(query)\n",
    "    data[\"answer\"].append(rag_chain.invoke(query))\n",
    "    data[\"contexts\"].append(\n",
    "        [doc.page_content for doc in pinecone_retriever.invoke(query)]\n",
    "    )\n",
    "\n",
    "path = \"./data/customtestset_sonnet_bm25.json\"\n",
    "with open(path, \"w\") as file:\n",
    "    json.dump(data, file)"
   ]
  },
  {
   "cell_type": "markdown",
   "metadata": {},
   "source": [
    "# conversation\n"
   ]
  },
  {
   "cell_type": "code",
   "execution_count": null,
   "metadata": {},
   "outputs": [],
   "source": [
    "query = \"현재를 기준으로 최근 1년동안 금리의 추세를 분석해주세요\"\n",
    "context = pinecone_retriever.invoke(query)\n",
    "result = rag_chain.invoke(query)\n",
    "context\n",
    "print(result)"
   ]
  }
 ],
 "metadata": {
  "kernelspec": {
   "display_name": "macroagent-withrag-bsFmSw79-py3.11",
   "language": "python",
   "name": "python3"
  },
  "language_info": {
   "codemirror_mode": {
    "name": "ipython",
    "version": 3
   },
   "file_extension": ".py",
   "mimetype": "text/x-python",
   "name": "python",
   "nbconvert_exporter": "python",
   "pygments_lexer": "ipython3",
   "version": "3.11.9"
  }
 },
 "nbformat": 4,
 "nbformat_minor": 2
}
